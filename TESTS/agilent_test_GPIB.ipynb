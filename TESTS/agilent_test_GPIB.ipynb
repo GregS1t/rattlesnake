{
 "cells": [
  {
   "cell_type": "code",
   "execution_count": null,
   "id": "9218eb45",
   "metadata": {},
   "outputs": [],
   "source": [
    "# -*- coding: utf-8 -*-\n",
    "\"\"\"\n",
    "Created on Wed Nov  3 15:38:54 2021\n",
    "\n",
    "@author: cave\n",
    "\"\"\"\n",
    "\n",
    "import pyvisa\n",
    "\n",
    "rm = pyvisa.ResourceManager()\n",
    "print(rm.list_resources())\n",
    "\n",
    "agilent = rm.open_resource('ASRL4::INSTR')"
   ]
  },
  {
   "cell_type": "code",
   "execution_count": null,
   "id": "be182f03",
   "metadata": {},
   "outputs": [],
   "source": [
    "print(agilent.query('*IDN?'))"
   ]
  },
  {
   "cell_type": "code",
   "execution_count": 2,
   "id": "6ca6b9d5",
   "metadata": {},
   "outputs": [
    {
     "name": "stdout",
     "output_type": "stream",
     "text": [
      "Find following resources: \n",
      "('ASRL4::INSTR',)\n",
      "Opening ASRL4::INSTR\n",
      "Query\n",
      "Commands\n"
     ]
    }
   ],
   "source": [
    "import visa\n",
    "\n",
    "rm = visa.ResourceManager()\n",
    "res = rm.list_resources()\n",
    "print(\"Find following resources: \")\n",
    "print(res)\n",
    "print(\"Opening \" + res[-1])\n",
    "\n",
    "inst = rm.open_resource(res[-1])\n",
    "inst.read_termination = '\\n'\n",
    "inst.write_termination = '\\n'\n",
    "# When sending command to E3631A, The \"Rmt\" and \"Adrs\" icon are on on the display\n",
    "# panel. All input from panel are inactived, util you press \"Store/Local\" button.\n",
    "print(\"Query\")\n",
    "inst.query(\"*IDN?\")\n",
    "\n",
    "\n",
    "print(\"Commands\")\n",
    "#inst.write(\"INST P6V\") # Select +6V output\n",
    "#inst.write(\"VOLT 2.0\") # Set output voltage to 3.0 V\n",
    "#inst.write(\"CURR 1.0\") # Set output current to 1.0 A\n",
    "\n",
    "# The APPLy command provides the most straightforward method to program the\n",
    "# power supply over the remote interface.\n",
    "#  inst.write(\"APPL P6V, 3.0, 1.0\")\n",
    "\n",
    "\n",
    "# power on/off\n",
    "#inst.write(\"OUTP OFF\")\n",
    "#inst.write(\"OUTP OFF\")"
   ]
  },
  {
   "cell_type": "code",
   "execution_count": 3,
   "id": "f82c3ade",
   "metadata": {},
   "outputs": [
    {
     "name": "stdout",
     "output_type": "stream",
     "text": [
      "Commands\n"
     ]
    },
    {
     "data": {
      "text/plain": [
       "10"
      ]
     },
     "execution_count": 3,
     "metadata": {},
     "output_type": "execute_result"
    }
   ],
   "source": [
    "\n",
    "\n",
    "print(\"Commands\")\n",
    "inst.write(\"INST P25V\") # Select +6V output\n",
    "#inst.write(\"VOLT 2.0\") # Set output voltage to 3.0 V\n",
    "#inst.write(\"CURR 1.0\") # Set output current to 1.0 A\n"
   ]
  },
  {
   "cell_type": "code",
   "execution_count": 4,
   "id": "bb478a39",
   "metadata": {},
   "outputs": [
    {
     "data": {
      "text/plain": [
       "8"
      ]
     },
     "execution_count": 4,
     "metadata": {},
     "output_type": "execute_result"
    }
   ],
   "source": [
    "inst.write(\"OUTP ON\")"
   ]
  },
  {
   "cell_type": "code",
   "execution_count": 5,
   "id": "6454c4af",
   "metadata": {},
   "outputs": [
    {
     "data": {
      "text/plain": [
       "9"
      ]
     },
     "execution_count": 5,
     "metadata": {},
     "output_type": "execute_result"
    }
   ],
   "source": [
    "inst.write(\"VOLT 2.0\")"
   ]
  },
  {
   "cell_type": "code",
   "execution_count": 6,
   "id": "7cbba30a",
   "metadata": {},
   "outputs": [
    {
     "data": {
      "text/plain": [
       "9"
      ]
     },
     "execution_count": 6,
     "metadata": {},
     "output_type": "execute_result"
    }
   ],
   "source": [
    "inst.write(\"VOLT 4.0\")"
   ]
  },
  {
   "cell_type": "code",
   "execution_count": null,
   "id": "88054e2a",
   "metadata": {},
   "outputs": [],
   "source": [
    "import time\n",
    "inst.write(\"VOLT 2.0\")\n",
    "time.sleep(2)\n",
    "inst.write(\"VOLT 3.0\")\n",
    "time.sleep(2)\n",
    "inst.write(\"VOLT 2.0\")\n",
    "time.sleep(2)\n",
    "inst.write(\"VOLT 4.0\")\n",
    "time.sleep(2)\n",
    "inst.write(\"VOLT 2.0\")\n",
    "time.sleep(2)\n",
    "inst.write(\"VOLT 5.0\")\n",
    "time.sleep(2)\n",
    "inst.write(\"VOLT 2.0\")"
   ]
  },
  {
   "cell_type": "code",
   "execution_count": null,
   "id": "ad5f3666",
   "metadata": {},
   "outputs": [],
   "source": [
    "inst.write(\"CURR 0.5\")"
   ]
  },
  {
   "cell_type": "code",
   "execution_count": null,
   "id": "f90ba173",
   "metadata": {},
   "outputs": [],
   "source": [
    "%reset -f\n",
    "import visa\n",
    "import time\n",
    "import numpy as np\n",
    "\n",
    "\n",
    "rm = visa.ResourceManager()\n",
    "res = rm.list_resources()\n",
    "print(\"Find following resources: \")\n",
    "print(res)\n",
    "print(\"Opening \" + res[-1])\n",
    "\n",
    "inst = rm.open_resource(res[-1])\n",
    "\n",
    "\n",
    "\n",
    "voltmin = 2\n",
    "voltmax = 5\n",
    "voltstep = 0.5    \n",
    "sleeptime = 2    # Time sleep in seconds\n",
    "\n",
    "modetype = \"up down\"\n",
    "\n",
    "\n",
    "def agilent_run_cycle(voltmin=0, voltmax=25, voltstep=1, \n",
    "                      modetype=\"up down\", sleeptime=2)\n",
    "    \"\"\"\n",
    "    \n",
    "    \n",
    "    \"\"\"\n",
    "    if modetype.lower() == \"up down\":\n",
    "        for v in np.arange(voltmin, voltmax, voltstep):\n",
    "            cmd2ps = \"VOLT {:.1f}\".format(v)\n",
    "            inst.write(cmd2ps)\n",
    "            time.sleep(sleeptime)\n",
    "            cmd2ps = \"VOLT {:.1f}\".format(voltmin)\n",
    "            inst.write(cmd2ps)\n",
    "            time.sleep(sleeptime)\n",
    "        for v in np.arange(voltmax, voltmin, -voltstep):\n",
    "            cmd2ps = \"VOLT {:.1f}\".format(v)\n",
    "            inst.write(cmd2ps)\n",
    "            time.sleep(sleeptime)\n",
    "            cmd2ps = \"VOLT {:.1f}\".format(voltmin)\n",
    "            inst.write(cmd2ps)\n",
    "            time.sleep(sleeptime)\n",
    "            \n",
    "def agilent_run_cycle_test(voltmin=0, voltmax=25, voltstep=1, \n",
    "                      modetype=\"up down\", sleeptime=2)\n",
    "    \"\"\"\n",
    "    \n",
    "    \n",
    "    \"\"\"\n",
    "    if modetype.lower() == \"up down\":\n",
    "        for v in np.arange(voltmin, voltmax, voltstep):\n",
    "            cmd2ps = \"VOLT {:.1f}\".format(v)\n",
    "            inst.write(cmd2ps)\n",
    "            time.sleep(sleeptime)\n",
    "            cmd2ps = \"VOLT {:.1f}\".format(voltmin)\n",
    "            inst.write(cmd2ps)\n",
    "            time.sleep(sleeptime)\n",
    "        for v in np.arange(voltmax, voltmin, -voltstep):\n",
    "            cmd2ps = \"VOLT {:.1f}\".format(v)\n",
    "            inst.write(cmd2ps)\n",
    "            time.sleep(sleeptime)\n",
    "            cmd2ps = \"VOLT {:.1f}\".format(voltmin)\n",
    "            inst.write(cmd2ps)\n",
    "            time.sleep(sleeptime)\n",
    "    "
   ]
  },
  {
   "cell_type": "code",
   "execution_count": null,
   "id": "b47bfbfa",
   "metadata": {},
   "outputs": [],
   "source": []
  }
 ],
 "metadata": {
  "kernelspec": {
   "display_name": "Python 3 (ipykernel)",
   "language": "python",
   "name": "python3"
  },
  "language_info": {
   "codemirror_mode": {
    "name": "ipython",
    "version": 3
   },
   "file_extension": ".py",
   "mimetype": "text/x-python",
   "name": "python",
   "nbconvert_exporter": "python",
   "pygments_lexer": "ipython3",
   "version": "3.8.5"
  }
 },
 "nbformat": 4,
 "nbformat_minor": 5
}
